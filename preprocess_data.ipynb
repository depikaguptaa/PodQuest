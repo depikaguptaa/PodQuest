{
  "nbformat": 4,
  "nbformat_minor": 0,
  "metadata": {
    "colab": {
      "provenance": []
    },
    "kernelspec": {
      "name": "python3",
      "display_name": "Python 3"
    },
    "language_info": {
      "name": "python"
    }
  },
  "cells": [
    {
      "cell_type": "code",
      "execution_count": 1,
      "metadata": {
        "id": "XZAUp8SCwDna"
      },
      "outputs": [],
      "source": [
        "import pandas as pd\n",
        "import re"
      ]
    },
    {
      "cell_type": "code",
      "source": [
        "# Load the dataset\n",
        "file_path = '/content/podcastdata_dataset.csv'\n",
        "df = pd.read_csv(file_path)"
      ],
      "metadata": {
        "id": "On7Z4DE2yOtq"
      },
      "execution_count": 5,
      "outputs": []
    },
    {
      "cell_type": "code",
      "source": [
        "# Inspect the data\n",
        "print(df.head())\n",
        "print(df.info())"
      ],
      "metadata": {
        "colab": {
          "base_uri": "https://localhost:8080/"
        },
        "id": "hIeNMqZAyVQo",
        "outputId": "a5c83229-c799-48ea-b115-d13b9fe62130"
      },
      "execution_count": 6,
      "outputs": [
        {
          "output_type": "stream",
          "name": "stdout",
          "text": [
            "   id            guest                    title  \\\n",
            "0   1      Max Tegmark                 Life 3.0   \n",
            "1   2    Christof Koch            Consciousness   \n",
            "2   3    Steven Pinker  AI in the Age of Reason   \n",
            "3   4    Yoshua Bengio            Deep Learning   \n",
            "4   5  Vladimir Vapnik     Statistical Learning   \n",
            "\n",
            "                                                text  \n",
            "0  As part of MIT course 6S099, Artificial Genera...  \n",
            "1  As part of MIT course 6S099 on artificial gene...  \n",
            "2  You've studied the human mind, cognition, lang...  \n",
            "3  What difference between biological neural netw...  \n",
            "4  The following is a conversation with Vladimir ...  \n",
            "<class 'pandas.core.frame.DataFrame'>\n",
            "RangeIndex: 319 entries, 0 to 318\n",
            "Data columns (total 4 columns):\n",
            " #   Column  Non-Null Count  Dtype \n",
            "---  ------  --------------  ----- \n",
            " 0   id      319 non-null    int64 \n",
            " 1   guest   319 non-null    object\n",
            " 2   title   319 non-null    object\n",
            " 3   text    319 non-null    object\n",
            "dtypes: int64(1), object(3)\n",
            "memory usage: 10.1+ KB\n",
            "None\n"
          ]
        }
      ]
    },
    {
      "cell_type": "code",
      "source": [
        "# Check for missing values\n",
        "print(df.isnull().sum())"
      ],
      "metadata": {
        "colab": {
          "base_uri": "https://localhost:8080/"
        },
        "id": "gmMVJxhCzDOJ",
        "outputId": "e8abf399-55d9-4c8d-af64-64c542058c1e"
      },
      "execution_count": 7,
      "outputs": [
        {
          "output_type": "stream",
          "name": "stdout",
          "text": [
            "id       0\n",
            "guest    0\n",
            "title    0\n",
            "text     0\n",
            "dtype: int64\n"
          ]
        }
      ]
    },
    {
      "cell_type": "code",
      "source": [
        "# Fill or drop missing values (this example drops rows with missing transcripts)\n",
        "df.dropna(subset=['text'], inplace=True)"
      ],
      "metadata": {
        "id": "xRddFxziz835"
      },
      "execution_count": 12,
      "outputs": []
    },
    {
      "cell_type": "code",
      "source": [
        "# Normalize text (convert to lowercase, remove special characters, etc.)\n",
        "def clean_text(text):\n",
        "    text = text.lower()\n",
        "    text = re.sub(r'\\s+', ' ', text)  # Replace multiple spaces with a single space\n",
        "    text = re.sub(r'[^a-zA-Z0-9\\s]', '', text)  # Remove special characters\n",
        "    return text"
      ],
      "metadata": {
        "id": "5DXc5mdmzOKN"
      },
      "execution_count": 13,
      "outputs": []
    },
    {
      "cell_type": "code",
      "source": [
        "df['text'] = df['text'].apply(clean_text)"
      ],
      "metadata": {
        "id": "elt8cdV7zSYq"
      },
      "execution_count": 14,
      "outputs": []
    },
    {
      "cell_type": "code",
      "source": [
        "# Optional: Split transcripts into smaller segments (if necessary)\n",
        "# This step can help manage long transcripts by breaking them into smaller chunks\n",
        "def split_transcript(text, max_length=500):\n",
        "    words = text.split()\n",
        "    segments = [' '.join(words[i:i + max_length]) for i in range(0, len(words), max_length)]\n",
        "    return segments"
      ],
      "metadata": {
        "id": "Iti8xq5izxep"
      },
      "execution_count": 15,
      "outputs": []
    },
    {
      "cell_type": "code",
      "source": [
        "df['segments'] = df['text'].apply(split_transcript)"
      ],
      "metadata": {
        "id": "Wz9xRHyi0MNc"
      },
      "execution_count": 17,
      "outputs": []
    },
    {
      "cell_type": "code",
      "source": [
        "# Flatten the DataFrame to have one segment per row (if splitting)\n",
        "df = df.explode('segments').reset_index(drop=True)"
      ],
      "metadata": {
        "id": "vdtw2BWU0O-V"
      },
      "execution_count": 18,
      "outputs": []
    },
    {
      "cell_type": "code",
      "source": [
        "# Save the cleaned data\n",
        "cleaned_file_path = '/content/cleaned_podcastdata.csv'\n",
        "df.to_csv(cleaned_file_path, index=False)\n",
        "print(f\"Cleaned data saved to {cleaned_file_path}\")"
      ],
      "metadata": {
        "colab": {
          "base_uri": "https://localhost:8080/"
        },
        "id": "SPknLp0I0UR9",
        "outputId": "50c4c4c7-e8d9-4a3c-a095-0ba32bc17a2d"
      },
      "execution_count": 19,
      "outputs": [
        {
          "output_type": "stream",
          "name": "stdout",
          "text": [
            "Cleaned data saved to /content/cleaned_podcastdata.csv\n"
          ]
        }
      ]
    },
    {
      "cell_type": "code",
      "source": [
        "from google.colab import files\n",
        "\n",
        "files.download('cleaned_podcastdata.csv')"
      ],
      "metadata": {
        "id": "8FEGk-wO0igX"
      },
      "execution_count": null,
      "outputs": []
    },
    {
      "cell_type": "code",
      "source": [],
      "metadata": {
        "id": "mkBZS0Rt13Cb"
      },
      "execution_count": null,
      "outputs": []
    }
  ]
}